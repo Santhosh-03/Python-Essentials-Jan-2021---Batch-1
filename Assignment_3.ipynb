{
 "cells": [
  {
   "cell_type": "markdown",
   "metadata": {},
   "source": [
    "# Question 1:\n",
    "### Write a Python function to find the Max of three numbers."
   ]
  },
  {
   "cell_type": "code",
   "execution_count": 11,
   "metadata": {},
   "outputs": [],
   "source": [
    "def max_of_three_num(a,b,c):\n",
    "    if (a > b) and (a > c):\n",
    "        print(a ,\"is greater\")\n",
    "    elif (b > a) and (b > c):\n",
    "        print(b ,\"is greater\")\n",
    "    else:\n",
    "        print(c ,\"is greater\")"
   ]
  },
  {
   "cell_type": "code",
   "execution_count": 12,
   "metadata": {},
   "outputs": [
    {
     "name": "stdout",
     "output_type": "stream",
     "text": [
      "6 is greater\n"
     ]
    }
   ],
   "source": [
    "a , b , c = 2 , 6 , 5\n",
    "max_of_three_num(a,b,c)"
   ]
  },
  {
   "cell_type": "markdown",
   "metadata": {},
   "source": [
    "# Question 2 :\n",
    "### Write a Python function that checks whether a passed string is palindrome or not"
   ]
  },
  {
   "cell_type": "code",
   "execution_count": 9,
   "metadata": {},
   "outputs": [],
   "source": [
    "def palindrome(string):\n",
    "    new_string = string[::-1]\n",
    "    if ( new_string == string):\n",
    "        print(string ,\"is a palindrome\")\n",
    "    else:\n",
    "        print(string ,\"is not a palindrome\")"
   ]
  },
  {
   "cell_type": "code",
   "execution_count": 10,
   "metadata": {},
   "outputs": [
    {
     "name": "stdout",
     "output_type": "stream",
     "text": [
      "Enter the sting to check palindrome :madam\n",
      "madam is a palindrome\n"
     ]
    }
   ],
   "source": [
    "string = input(\"Enter the sting to check palindrome :\")\n",
    "palindrome(string)"
   ]
  },
  {
   "cell_type": "markdown",
   "metadata": {},
   "source": [
    "# Question 3:\n",
    "### Write a Python function that accepts a string and calculate the number of uppercase letters andlowercase letters"
   ]
  },
  {
   "cell_type": "code",
   "execution_count": 45,
   "metadata": {},
   "outputs": [],
   "source": [
    "def string_calc(s):\n",
    "    upper_case = 0\n",
    "    lower_case = 0\n",
    "    for i in s:\n",
    "        if i.isupper():\n",
    "            upper_case += 1 \n",
    "        elif i.islower():\n",
    "            lower_case += 1\n",
    "        else:\n",
    "            pass\n",
    "    print(\"Original string is :\",s)\n",
    "    print(\"Count of upper case letters are :\",upper_case)\n",
    "    print(\"Count of lower case letters are :\",lower_case)"
   ]
  },
  {
   "cell_type": "code",
   "execution_count": 46,
   "metadata": {},
   "outputs": [
    {
     "name": "stdout",
     "output_type": "stream",
     "text": [
      "Original string is : Python is an Open-Source language\n",
      "Count of upper case letters are : 3\n",
      "Count of lower case letters are : 25\n"
     ]
    }
   ],
   "source": [
    "s = \"Python is an Open-Source language\"\n",
    "string_calc(s)"
   ]
  },
  {
   "cell_type": "markdown",
   "metadata": {},
   "source": [
    "# Question 4:\n",
    "### Write a Python function to sum all the numbers in a list"
   ]
  },
  {
   "cell_type": "code",
   "execution_count": 51,
   "metadata": {},
   "outputs": [],
   "source": [
    "def sum_of_list(list,size):\n",
    "    if(size==0):\n",
    "        return 0\n",
    "    else:\n",
    "        return list[ size - 1 ] + sum_of_list( list , size - 1 )\n",
    "total = sum_of_list(ls,len(ls))"
   ]
  },
  {
   "cell_type": "code",
   "execution_count": 52,
   "metadata": {},
   "outputs": [
    {
     "name": "stdout",
     "output_type": "stream",
     "text": [
      "Sum of elements in the list is : 6\n"
     ]
    }
   ],
   "source": [
    "ls = [1,2,3,4,5]\n",
    "print(\"Sum of elements in the list is :\",total)"
   ]
  },
  {
   "cell_type": "markdown",
   "metadata": {},
   "source": [
    "# Question 5:\n",
    "### Write a Python function to multiply all the numbers in a list"
   ]
  },
  {
   "cell_type": "code",
   "execution_count": 49,
   "metadata": {},
   "outputs": [],
   "source": [
    "def product_of_list(mylist):\n",
    "    result = 1\n",
    "    for i in mylist:\n",
    "        result = result * i\n",
    "    return result"
   ]
  },
  {
   "cell_type": "code",
   "execution_count": 50,
   "metadata": {},
   "outputs": [
    {
     "name": "stdout",
     "output_type": "stream",
     "text": [
      "6\n"
     ]
    }
   ],
   "source": [
    "ls = [1,2,3]\n",
    "print(product_of_list(ls))"
   ]
  },
  {
   "cell_type": "markdown",
   "metadata": {},
   "source": [
    "# Question 6:\n",
    "### Write a Python function that takes a list and returns a new list with unique elements of the first list"
   ]
  },
  {
   "cell_type": "code",
   "execution_count": 37,
   "metadata": {},
   "outputs": [],
   "source": [
    "ls = [10,20,30,20,40,10,20,50]"
   ]
  },
  {
   "cell_type": "code",
   "execution_count": 39,
   "metadata": {},
   "outputs": [],
   "source": [
    "def unique_list(mylist):\n",
    "    list1 = []\n",
    "    for i in mylist:\n",
    "        if i not in list1:\n",
    "            list1.append(i)\n",
    "    return list1"
   ]
  },
  {
   "cell_type": "code",
   "execution_count": 48,
   "metadata": {},
   "outputs": [
    {
     "name": "stdout",
     "output_type": "stream",
     "text": [
      "Original list is :  [10, 20, 30, 20, 40, 10, 20, 50]\n",
      "Unique element in the list is : [10, 20, 30, 40, 50]\n"
     ]
    }
   ],
   "source": [
    "print(\"Original list is : \",ls)\n",
    "print(\"Unique element in the list is :\",unique_list(ls))"
   ]
  },
  {
   "cell_type": "code",
   "execution_count": null,
   "metadata": {},
   "outputs": [],
   "source": []
  }
 ],
 "metadata": {
  "kernelspec": {
   "display_name": "Python 3",
   "language": "python",
   "name": "python3"
  },
  "language_info": {
   "codemirror_mode": {
    "name": "ipython",
    "version": 3
   },
   "file_extension": ".py",
   "mimetype": "text/x-python",
   "name": "python",
   "nbconvert_exporter": "python",
   "pygments_lexer": "ipython3",
   "version": "3.8.3"
  }
 },
 "nbformat": 4,
 "nbformat_minor": 4
}
