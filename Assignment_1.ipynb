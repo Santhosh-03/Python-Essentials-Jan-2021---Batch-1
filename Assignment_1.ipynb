{
 "cells": [
  {
   "cell_type": "markdown",
   "metadata": {},
   "source": [
    "## Questions 1:\n",
    "\n",
    "Find the value of the following questions, Where x=5\n",
    "\n",
    "● (2x+5/x^2+5x+6)\n",
    "● (x^2+5x+6/2x+5)\n",
    "● (2x-3)(x-9)"
   ]
  },
  {
   "cell_type": "code",
   "execution_count": 15,
   "metadata": {},
   "outputs": [
    {
     "data": {
      "text/plain": [
       "0.26785714285714285"
      ]
     },
     "execution_count": 15,
     "metadata": {},
     "output_type": "execute_result"
    }
   ],
   "source": [
    "x = 5\n",
    "r1 = ((2*x + 5)/(x**2+5*x+6))\n",
    "r1"
   ]
  },
  {
   "cell_type": "code",
   "execution_count": 14,
   "metadata": {},
   "outputs": [
    {
     "data": {
      "text/plain": [
       "3.7333333333333334"
      ]
     },
     "execution_count": 14,
     "metadata": {},
     "output_type": "execute_result"
    }
   ],
   "source": [
    "r2 = (x**2+5*x+6)/(2*x+5)\n",
    "r2"
   ]
  },
  {
   "cell_type": "code",
   "execution_count": 13,
   "metadata": {},
   "outputs": [
    {
     "data": {
      "text/plain": [
       "-28"
      ]
     },
     "execution_count": 13,
     "metadata": {},
     "output_type": "execute_result"
    }
   ],
   "source": [
    "r3 = (2*x-3)*(x-9)\n",
    "r3"
   ]
  },
  {
   "cell_type": "markdown",
   "metadata": {},
   "source": [
    "## Questions 2:\n",
    "\n",
    "### Create a username and password login file using nested while loop"
   ]
  },
  {
   "cell_type": "code",
   "execution_count": null,
   "metadata": {},
   "outputs": [
    {
     "name": "stdout",
     "output_type": "stream",
     "text": [
      "Enter your username :abc@xyz.com\n",
      "Enter your password :67@298\n",
      "Login successfull\n"
     ]
    }
   ],
   "source": [
    "user_name = \"abc@xyz.com\"\n",
    "pass_word = \"67@298\"\n",
    "u_name = input(\"Enter your username :\")\n",
    "p_word = input(\"Enter your password :\")\n",
    "count = 0\n",
    "while ((u_name == user_name) & (p_word == pass_word)):\n",
    "    while(count==0):\n",
    "        print(\"Login successfull\")\n",
    "        count = count+1\n",
    "        break\n",
    "else:\n",
    "    print(\"Ivalid credentials\")"
   ]
  },
  {
   "cell_type": "code",
   "execution_count": null,
   "metadata": {},
   "outputs": [],
   "source": []
  }
 ],
 "metadata": {
  "kernelspec": {
   "display_name": "Python 3",
   "language": "python",
   "name": "python3"
  },
  "language_info": {
   "codemirror_mode": {
    "name": "ipython",
    "version": 3
   },
   "file_extension": ".py",
   "mimetype": "text/x-python",
   "name": "python",
   "nbconvert_exporter": "python",
   "pygments_lexer": "ipython3",
   "version": "3.8.3"
  }
 },
 "nbformat": 4,
 "nbformat_minor": 4
}
