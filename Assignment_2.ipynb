{
 "cells": [
  {
   "cell_type": "markdown",
   "metadata": {},
   "source": [
    "## Question 1:\n",
    "\n",
    "### Write a Python program to remove duplicates from a list"
   ]
  },
  {
   "cell_type": "code",
   "execution_count": 19,
   "metadata": {},
   "outputs": [
    {
     "data": {
      "text/plain": [
       "[12, 34, 56, 87, 90, 12, 34]"
      ]
     },
     "execution_count": 19,
     "metadata": {},
     "output_type": "execute_result"
    }
   ],
   "source": [
    "ls = [12,34,56,87,90,12,34]\n",
    "ls"
   ]
  },
  {
   "cell_type": "code",
   "execution_count": 20,
   "metadata": {},
   "outputs": [
    {
     "data": {
      "text/plain": [
       "[34, 12, 87, 56, 90]"
      ]
     },
     "execution_count": 20,
     "metadata": {},
     "output_type": "execute_result"
    }
   ],
   "source": [
    "list(set(ls))"
   ]
  },
  {
   "cell_type": "markdown",
   "metadata": {},
   "source": [
    "## Question 2:\n",
    "\n",
    "### Write a Python program to get the difference between the two lists"
   ]
  },
  {
   "cell_type": "code",
   "execution_count": 45,
   "metadata": {},
   "outputs": [
    {
     "name": "stdout",
     "output_type": "stream",
     "text": [
      "List 1 : [23, 45, 7, 89, 65, 234, 123, 87]\n",
      "\n",
      "List 2 : [45, 65, 34, 32, 81, 87, 4, 10]\n"
     ]
    }
   ],
   "source": [
    "ls1 = [23,45,7,89,65,234,123,87]\n",
    "ls2 = [45,65,34,32,81,87,4,10]\n",
    "print(\"List 1 :\",ls1)\n",
    "print()\n",
    "print(\"List 2 :\",ls2)"
   ]
  },
  {
   "cell_type": "code",
   "execution_count": 22,
   "metadata": {},
   "outputs": [
    {
     "data": {
      "text/plain": [
       "[7, 234, 23, 89, 123]"
      ]
     },
     "execution_count": 22,
     "metadata": {},
     "output_type": "execute_result"
    }
   ],
   "source": [
    "ls = list(set(ls1) - set(ls2))\n",
    "ls"
   ]
  },
  {
   "cell_type": "markdown",
   "metadata": {},
   "source": [
    "## Question 3:\n",
    "\n",
    "### Write a Python program to get the frequency of the elements in a list"
   ]
  },
  {
   "cell_type": "code",
   "execution_count": 23,
   "metadata": {},
   "outputs": [
    {
     "data": {
      "text/plain": [
       "[10, 20, 30, 40, 10, 30, 50, 20, 60, 70, 50, 70, 60, 70, 50]"
      ]
     },
     "execution_count": 23,
     "metadata": {},
     "output_type": "execute_result"
    }
   ],
   "source": [
    "import collections \n",
    "ls = [10,20,30,40,10,30,50,20,60,70,50,70,60,70,50]\n",
    "ls"
   ]
  },
  {
   "cell_type": "code",
   "execution_count": 24,
   "metadata": {},
   "outputs": [
    {
     "data": {
      "text/plain": [
       "Counter({10: 2, 20: 2, 30: 2, 40: 1, 50: 3, 60: 2, 70: 3})"
      ]
     },
     "execution_count": 24,
     "metadata": {},
     "output_type": "execute_result"
    }
   ],
   "source": [
    "freq = collections.Counter(ls)\n",
    "freq"
   ]
  },
  {
   "cell_type": "markdown",
   "metadata": {},
   "source": [
    "## Question 4:\n",
    "\n",
    "### Write a Python program to compute the similarity between two lists."
   ]
  },
  {
   "cell_type": "code",
   "execution_count": 47,
   "metadata": {},
   "outputs": [
    {
     "name": "stdout",
     "output_type": "stream",
     "text": [
      "List 1 : [10, 20, 30, 40, 50]\n",
      "\n",
      "List 2 : [5, 7, 10, 22, 20]\n"
     ]
    }
   ],
   "source": [
    "ls1 = [10,20,30,40,50]\n",
    "ls2 = [5,7,10,22,20]\n",
    "print(\"List 1 :\",ls1)\n",
    "print()\n",
    "print(\"List 2 :\",ls2)"
   ]
  },
  {
   "cell_type": "code",
   "execution_count": 26,
   "metadata": {},
   "outputs": [],
   "source": [
    "c1 = collections.Counter(ls1)\n",
    "c2 = collections.Counter(ls2)"
   ]
  },
  {
   "cell_type": "code",
   "execution_count": 27,
   "metadata": {},
   "outputs": [
    {
     "name": "stdout",
     "output_type": "stream",
     "text": [
      "list1-list2  : [30, 40, 50]\n",
      "list2-list1  : [5, 7, 22]\n"
     ]
    }
   ],
   "source": [
    "print(\"list1-list2  :\",list(c1-c2))\n",
    "print(\"list2-list1  :\",list(c2-c1))"
   ]
  },
  {
   "cell_type": "markdown",
   "metadata": {},
   "source": [
    "## Question 5:\n",
    "\n",
    "### Write a Python function that takes a list of words and returns the length of the longest one"
   ]
  },
  {
   "cell_type": "code",
   "execution_count": 28,
   "metadata": {},
   "outputs": [],
   "source": [
    "def Long_word(str_list):\n",
    "    word_ls = []\n",
    "    for i in str_list:\n",
    "        word_ls.append((len(i),i))\n",
    "    word_ls.sort()\n",
    "    return word_ls[-1][0],word_ls[-1],[-1]"
   ]
  },
  {
   "cell_type": "code",
   "execution_count": 29,
   "metadata": {},
   "outputs": [
    {
     "name": "stdout",
     "output_type": "stream",
     "text": [
      "Length of the longest word in the list is : 13\n"
     ]
    }
   ],
   "source": [
    "ls = [\"Yamaha\",\"Pulsar\",\"Royal Enfield\",\"Ducati\",\"Hero\"]\n",
    "result = Long_word(ls)\n",
    "print(\"Length of the longest word in the list is :\",result[0])"
   ]
  },
  {
   "cell_type": "markdown",
   "metadata": {},
   "source": [
    "## Question 6:\n",
    "\n",
    "### Write a Python program to count the occurrences of each word in a given sentence"
   ]
  },
  {
   "cell_type": "code",
   "execution_count": 30,
   "metadata": {},
   "outputs": [],
   "source": [
    "def word_count(str):\n",
    "    counts = dict()\n",
    "    words = str.split()\n",
    "\n",
    "    for word in words:\n",
    "        if word in counts:\n",
    "            counts[word] += 1\n",
    "        else:\n",
    "            counts[word] = 1\n",
    "\n",
    "    return counts"
   ]
  },
  {
   "cell_type": "code",
   "execution_count": 48,
   "metadata": {},
   "outputs": [
    {
     "data": {
      "text/plain": [
       "{'Peter': 4,\n",
       " 'Piper': 4,\n",
       " 'picked': 4,\n",
       " 'a': 2,\n",
       " 'peck': 4,\n",
       " 'of': 4,\n",
       " 'pickled': 4,\n",
       " 'peppers': 4,\n",
       " 'A': 1,\n",
       " 'If': 1,\n",
       " 'Where’s': 1,\n",
       " 'the': 1}"
      ]
     },
     "execution_count": 48,
     "metadata": {},
     "output_type": "execute_result"
    }
   ],
   "source": [
    "s = '''\n",
    "    Peter Piper picked a peck of pickled peppers\n",
    "    A peck of pickled peppers Peter Piper picked\n",
    "    If Peter Piper picked a peck of pickled peppers\n",
    "    Where’s the peck of pickled peppers Peter Piper picked\n",
    "    '''\n",
    "word_count(s)"
   ]
  },
  {
   "cell_type": "markdown",
   "metadata": {},
   "source": [
    "## Question 7:\n",
    "### Write a Python program to count and display the vowels of a given text"
   ]
  },
  {
   "cell_type": "code",
   "execution_count": 32,
   "metadata": {},
   "outputs": [
    {
     "name": "stdout",
     "output_type": "stream",
     "text": [
      "Given string is : Lets Upgrade\n",
      "The vowels present in the string is : {'a', 'e', 'U'}\n"
     ]
    }
   ],
   "source": [
    "txt = \"Lets Upgrade\"\n",
    "print(\"Given string is :\",txt)\n",
    "vowels = \"aeiouAEIOU\"\n",
    "count = set([vowel for vowel in txt if vowel in vowels])\n",
    "print(\"The vowels present in the string is :\",count)"
   ]
  },
  {
   "cell_type": "markdown",
   "metadata": {},
   "source": [
    "## Question 8\n",
    "\n",
    "### Write a Python script to generate and print a dictionary that contains a number (between 1 and n) in the form (x, x*x)"
   ]
  },
  {
   "cell_type": "code",
   "execution_count": 33,
   "metadata": {},
   "outputs": [
    {
     "name": "stdout",
     "output_type": "stream",
     "text": [
      "Enter a number :7\n",
      "{1: 1, 2: 4, 3: 9, 4: 16, 5: 25, 6: 36, 7: 49}\n"
     ]
    }
   ],
   "source": [
    "n = int(input(\"Enter a number :\"))\n",
    "d = {}\n",
    "for i in range(1,n+1):\n",
    "    d[i]=i*i\n",
    "print(d)"
   ]
  },
  {
   "cell_type": "markdown",
   "metadata": {},
   "source": [
    "## Question 9\n",
    "\n",
    "### Write a Python program to combine two dictionary adding values for common keys"
   ]
  },
  {
   "cell_type": "code",
   "execution_count": 34,
   "metadata": {},
   "outputs": [
    {
     "name": "stdout",
     "output_type": "stream",
     "text": [
      "{'A': 45, 'B': 56, 'C': 89, 'D': 23}\n",
      "{'E': 56, 'B': 23, 'A': 43, 'F': 46}\n"
     ]
    }
   ],
   "source": [
    "d1 = {'A': 45,'B' : 56,'C' : 89,'D':23}\n",
    "d2 = {'E': 56,'B' : 23, 'A' : 43,'F' : 46}\n",
    "print(d1)\n",
    "print(d2)"
   ]
  },
  {
   "cell_type": "code",
   "execution_count": 35,
   "metadata": {},
   "outputs": [
    {
     "name": "stdout",
     "output_type": "stream",
     "text": [
      "Combined dictionary : {'D': 23, 'A': 88, 'F': 46, 'B': 79, 'C': 89, 'E': 56}\n"
     ]
    }
   ],
   "source": [
    "f_dict = {x:d1.get(x,0) + d2.get(x,0)\n",
    "         for x in set(d1).union(d2)}\n",
    "print(\"Combined dictionary :\",f_dict)"
   ]
  },
  {
   "cell_type": "code",
   "execution_count": 38,
   "metadata": {},
   "outputs": [
    {
     "name": "stdout",
     "output_type": "stream",
     "text": [
      "Counter({'C': 89, 'B': 56, 'A': 45, 'D': 23})\n",
      "Counter({'E': 56, 'F': 46, 'A': 43, 'B': 23})\n"
     ]
    }
   ],
   "source": [
    "from collections import Counter\n",
    "d1 = Counter({'A': 45,'B' : 56,'C' : 89,'D':23})\n",
    "d2 = Counter({'E': 56,'B' : 23, 'A' : 43,'F' : 46})\n",
    "print(d1)\n",
    "print(d2)"
   ]
  },
  {
   "cell_type": "code",
   "execution_count": 39,
   "metadata": {},
   "outputs": [
    {
     "data": {
      "text/plain": [
       "Counter({'A': 88, 'B': 79, 'C': 89, 'D': 23, 'E': 56, 'F': 46})"
      ]
     },
     "execution_count": 39,
     "metadata": {},
     "output_type": "execute_result"
    }
   ],
   "source": [
    "f_dict = d1 + d2\n",
    "f_dict"
   ]
  },
  {
   "cell_type": "markdown",
   "metadata": {},
   "source": [
    "## Question 10\n",
    "\n",
    "### Write a Python program to print all unique values in a dictionary"
   ]
  },
  {
   "cell_type": "code",
   "execution_count": 40,
   "metadata": {},
   "outputs": [
    {
     "name": "stdout",
     "output_type": "stream",
     "text": [
      "Dictionary is: {'A': 90, 'B': 23, 'C': 90, 'D': 76, 'E': 23, 'F': 267, 'G': 76, 'H': 65}\n"
     ]
    }
   ],
   "source": [
    "d = {'A':90,'B':23,'C':90,'D':76,'E':23,'F':267,'G':76,'H':65}\n",
    "print(\"Dictionary is:\",d)"
   ]
  },
  {
   "cell_type": "code",
   "execution_count": 42,
   "metadata": {},
   "outputs": [
    {
     "name": "stdout",
     "output_type": "stream",
     "text": [
      "Unique values in dictionary is : {65, 267, 76, 23, 90}\n"
     ]
    }
   ],
   "source": [
    "result = set(val for dit in d for val in d.values())\n",
    "print(\"Unique values in dictionary is :\",result)"
   ]
  },
  {
   "cell_type": "code",
   "execution_count": null,
   "metadata": {},
   "outputs": [],
   "source": []
  }
 ],
 "metadata": {
  "kernelspec": {
   "display_name": "Python 3",
   "language": "python",
   "name": "python3"
  },
  "language_info": {
   "codemirror_mode": {
    "name": "ipython",
    "version": 3
   },
   "file_extension": ".py",
   "mimetype": "text/x-python",
   "name": "python",
   "nbconvert_exporter": "python",
   "pygments_lexer": "ipython3",
   "version": "3.8.3"
  }
 },
 "nbformat": 4,
 "nbformat_minor": 4
}
