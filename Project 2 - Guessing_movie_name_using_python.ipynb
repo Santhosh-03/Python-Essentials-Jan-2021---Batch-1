{
 "cells": [
  {
   "cell_type": "code",
   "execution_count": 4,
   "metadata": {},
   "outputs": [
    {
     "data": {
      "text/plain": [
       "<firebase_admin.App at 0x27861934fd0>"
      ]
     },
     "execution_count": 4,
     "metadata": {},
     "output_type": "execute_result"
    }
   ],
   "source": [
    "#connecting with firebase\n",
    "import firebase_admin\n",
    "from firebase_admin import credentials\n",
    "\n",
    "cred = credentials.Certificate(\"movie-db-1e22d-firebase-adminsdk-6g852-4d0387a58c.json\")\n",
    "firebase_admin.initialize_app(cred)"
   ]
  },
  {
   "cell_type": "code",
   "execution_count": 5,
   "metadata": {},
   "outputs": [],
   "source": [
    "from firebase_admin import firestore"
   ]
  },
  {
   "cell_type": "code",
   "execution_count": 6,
   "metadata": {},
   "outputs": [
    {
     "name": "stdout",
     "output_type": "stream",
     "text": [
      "Data added successfully\n"
     ]
    }
   ],
   "source": [
    "#adding movie names\n",
    "db = firestore.client()\n",
    "doc_ref = db.collection(\"Movies\").document(\"Hollywood\")\n",
    "\n",
    "data = {'Name' : ['300','Avengers','Batman','Titanic','Finding Nemo'],\n",
    "       'Collection' : [100,300,290,400,250]}\n",
    "\n",
    "doc_ref.set(data)\n",
    "print(\"Data added successfully\")"
   ]
  },
  {
   "cell_type": "code",
   "execution_count": 7,
   "metadata": {},
   "outputs": [
    {
     "name": "stdout",
     "output_type": "stream",
     "text": [
      "['300', 'Avengers', 'Batman', 'Titanic', 'Finding Nemo']\n",
      "[100, 300, 290, 400, 250]\n"
     ]
    }
   ],
   "source": [
    "#Retrieving data from database\n",
    "db = firestore.client()\n",
    "docs = db.collection(\"Movies\").stream()\n",
    "\n",
    "for movie in docs:\n",
    "    name = movie.to_dict()\n",
    "    \n",
    "movie_name = name['Name']\n",
    "movie_coll = name['Collection']\n",
    "print(movie_name)\n",
    "print(movie_coll)"
   ]
  },
  {
   "cell_type": "code",
   "execution_count": 3,
   "metadata": {},
   "outputs": [
    {
     "ename": "NameError",
     "evalue": "name 'name' is not defined",
     "output_type": "error",
     "traceback": [
      "\u001b[1;31m---------------------------------------------------------------------------\u001b[0m",
      "\u001b[1;31mNameError\u001b[0m                                 Traceback (most recent call last)",
      "\u001b[1;32m<ipython-input-3-37edea49be68>\u001b[0m in \u001b[0;36m<module>\u001b[1;34m\u001b[0m\n\u001b[0;32m      1\u001b[0m \u001b[1;31m#Guessing the movie name\u001b[0m\u001b[1;33m\u001b[0m\u001b[1;33m\u001b[0m\u001b[1;33m\u001b[0m\u001b[0m\n\u001b[0;32m      2\u001b[0m \u001b[1;32mimport\u001b[0m \u001b[0mrandom\u001b[0m\u001b[1;33m\u001b[0m\u001b[1;33m\u001b[0m\u001b[0m\n\u001b[1;32m----> 3\u001b[1;33m \u001b[0mmovie_name\u001b[0m \u001b[1;33m=\u001b[0m \u001b[0mname\u001b[0m\u001b[1;33m[\u001b[0m\u001b[1;34m'Name'\u001b[0m\u001b[1;33m]\u001b[0m\u001b[1;33m\u001b[0m\u001b[1;33m\u001b[0m\u001b[0m\n\u001b[0m\u001b[0;32m      4\u001b[0m \u001b[0mplayer\u001b[0m \u001b[1;33m=\u001b[0m \u001b[0minput\u001b[0m\u001b[1;33m(\u001b[0m\u001b[1;34m'Enter your name :'\u001b[0m\u001b[1;33m)\u001b[0m\u001b[1;33m\u001b[0m\u001b[1;33m\u001b[0m\u001b[0m\n\u001b[0;32m      5\u001b[0m \u001b[0mprint\u001b[0m\u001b[1;33m(\u001b[0m\u001b[1;34m'You have 10 chances to guess'\u001b[0m\u001b[1;33m)\u001b[0m\u001b[1;33m\u001b[0m\u001b[1;33m\u001b[0m\u001b[0m\n",
      "\u001b[1;31mNameError\u001b[0m: name 'name' is not defined"
     ]
    }
   ],
   "source": [
    "#Guessing the movie name\n",
    "import random\n",
    "movie_name = name['Name']\n",
    "player = input('Enter your name :')\n",
    "print('You have 10 chances to guess')\n",
    "print('All the best ',player)\n",
    "\n",
    "count = 10\n",
    "guess = ''\n",
    "\n",
    "word = random.choice(movie_name)\n",
    "\n",
    "while count>0:\n",
    "    fail = 0\n",
    "    for c in word:\n",
    "        if c in guess:\n",
    "            print(c)\n",
    "        else:\n",
    "            print('_')\n",
    "            fail += 1\n",
    "            \n",
    "    if fail == 0:\n",
    "        print('Congratulation!!!. Your guess is right')\n",
    "        print('Movie name was',word)\n",
    "        break\n",
    "    \n",
    "    g = input('Enter charecter :')\n",
    "    guess += g\n",
    "    \n",
    "    if g not in word:\n",
    "        count -= 1\n",
    "        print('Wrong guess :(')\n",
    "        print('You still have',count,'guesses')"
   ]
  },
  {
   "cell_type": "code",
   "execution_count": null,
   "metadata": {},
   "outputs": [],
   "source": []
  }
 ],
 "metadata": {
  "kernelspec": {
   "display_name": "Python 3",
   "language": "python",
   "name": "python3"
  },
  "language_info": {
   "codemirror_mode": {
    "name": "ipython",
    "version": 3
   },
   "file_extension": ".py",
   "mimetype": "text/x-python",
   "name": "python",
   "nbconvert_exporter": "python",
   "pygments_lexer": "ipython3",
   "version": "3.8.3"
  }
 },
 "nbformat": 4,
 "nbformat_minor": 4
}
